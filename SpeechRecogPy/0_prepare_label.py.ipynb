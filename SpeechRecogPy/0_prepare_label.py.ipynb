{
 "cells": [
  {
   "cell_type": "code",
   "execution_count": 5,
   "id": "101e2015",
   "metadata": {},
   "outputs": [
    {
     "name": "stdout",
     "output_type": "stream",
     "text": [
      "Collecting pyyaml\n",
      "  Obtaining dependency information for pyyaml from https://files.pythonhosted.org/packages/1e/ae/964ccb88a938f20ece5754878f182cfbd846924930d02d29d06af8d4c69e/PyYAML-6.0.1-cp37-cp37m-win_amd64.whl.metadata\n",
      "  Downloading PyYAML-6.0.1-cp37-cp37m-win_amd64.whl.metadata (2.1 kB)\n",
      "Downloading PyYAML-6.0.1-cp37-cp37m-win_amd64.whl (153 kB)\n",
      "   ---------------------------------------- 153.2/153.2 kB 9.5 MB/s eta 0:00:00\n",
      "Installing collected packages: pyyaml\n",
      "Successfully installed pyyaml-6.0.1\n"
     ]
    }
   ],
   "source": [
    "!pip install pyyaml"
   ]
  },
  {
   "cell_type": "code",
   "execution_count": 9,
   "id": "4de37ff4",
   "metadata": {},
   "outputs": [],
   "source": [
    "# -*- coding: utf-8 -*-\n",
    "\n",
    "#\n",
    "# ダウンロードしたラベルデータを読み込み，\n",
    "# キャラクター(漢字混じりの文字)単位，かな単位，音素単位で定義されるラベルファイルを作成します．\n",
    "#\n",
    "\n",
    "# yamlデータを読み込むためのモジュールをインポート\n",
    "import yaml\n",
    "\n",
    "# osモジュールをインポート\n",
    "import os\n",
    "\n",
    "#\n",
    "# メイン関数\n",
    "#\n",
    "if __name__ == \"__main__\":\n",
    "    \n",
    "    # ダウンロードしたラベルデータ(yaml形式)\n",
    "    original_label = \\\n",
    "      './data/original/jsut-label-master/text_kana/basic5000.yaml'\n",
    "\n",
    "    # ラベルのリストを格納する場所\n",
    "    out_label_dir = './data/label/all'\n",
    "\n",
    "    # 出力ディレクトリが存在しない場合は作成する\n",
    "    os.makedirs(out_label_dir, exist_ok=True)\n",
    "\n",
    "    # ラベルデータを読み込む\n",
    "    with open(original_label, mode='r', encoding='UTF8') as yamlfile:\n",
    "        label_info = yaml.safe_load(yamlfile)\n",
    "\n",
    "    # キャラクター/かな/音素のラベルファイルを書き込みモードで開く\n",
    "    with open(os.path.join(out_label_dir, 'text_char'), \n",
    "              mode='w', encoding='UTF8') as label_char, \\\n",
    "              open(os.path.join(out_label_dir, 'text_kana'), \n",
    "              mode='w', encoding='UTF8') as label_kana, \\\n",
    "              open(os.path.join(out_label_dir, 'text_phone'), \n",
    "              mode='w', encoding='UTF8') as label_phone:\n",
    "        # BASIC5000_0001 ~ BASIC5000_5000 に対して処理を繰り返し実行\n",
    "        for i in range(5000):\n",
    "            # 発話ID\n",
    "            filename = 'BASIC5000_%04d' % (i+1)\n",
    "            \n",
    "            # 発話ID が label_info に含まれない場合はエラー\n",
    "            if not filename in label_info:\n",
    "                print('Error: %s is not in %s' % (filename, original_label))\n",
    "                exit()\n",
    "\n",
    "            # キャラクターラベル情報を取得\n",
    "            chars = label_info[filename]['text_level2']\n",
    "            # '、'と'。'を除去\n",
    "            chars = chars.replace('、', '')\n",
    "            chars = chars.replace('。', '')\n",
    "\n",
    "            # かなラベル情報を取得\n",
    "            kanas = label_info[filename]['kana_level3']\n",
    "            # '、'を除去\n",
    "            kanas = kanas.replace('、', '')\n",
    "\n",
    "            # 音素ラベル情報を取得\n",
    "            phones = label_info[filename]['phone_level3']\n",
    "\n",
    "            # キャラクターラベルファイルへ，1文字ずつスペース区切りで書き込む\n",
    "            # (' '.join(list) は，リストの各要素にスペースを挟んで，1文にする)\n",
    "            label_char.write('%s %s\\n' % (filename, ' '.join(chars)))\n",
    "\n",
    "            # かなラベルファイルへ，1文字ずつスペース区切りで書き込む\n",
    "            label_kana.write('%s %s\\n' % (filename, ' '.join(kanas)))\n",
    "\n",
    "            # 音素ラベルは，'-'をスペースに置換して書き込む\n",
    "            label_phone.write('%s %s\\n' % (filename, phones.replace('-',' ')))"
   ]
  }
 ],
 "metadata": {
  "kernelspec": {
   "display_name": "Python 3 (ipykernel)",
   "language": "python",
   "name": "python3"
  },
  "language_info": {
   "codemirror_mode": {
    "name": "ipython",
    "version": 3
   },
   "file_extension": ".py",
   "mimetype": "text/x-python",
   "name": "python",
   "nbconvert_exporter": "python",
   "pygments_lexer": "ipython3",
   "version": "3.7.7"
  }
 },
 "nbformat": 4,
 "nbformat_minor": 5
}
