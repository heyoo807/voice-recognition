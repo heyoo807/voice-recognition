{
 "cells": [
  {
   "cell_type": "code",
   "execution_count": 2,
   "id": "faff995e",
   "metadata": {},
   "outputs": [
    {
     "ename": "UnicodeDecodeError",
     "evalue": "'cp949' codec can't decode byte 0xb4 in position 17: illegal multibyte sequence",
     "output_type": "error",
     "traceback": [
      "\u001b[1;31m---------------------------------------------------------------------------\u001b[0m",
      "\u001b[1;31mUnicodeDecodeError\u001b[0m                        Traceback (most recent call last)",
      "\u001b[1;32m~\\AppData\\Local\\Temp\\ipykernel_18888\\4016289883.py\u001b[0m in \u001b[0;36m<module>\u001b[1;34m\u001b[0m\n\u001b[0;32m     50\u001b[0m                   mode='w') as train_large_file:\n\u001b[0;32m     51\u001b[0m             \u001b[1;31m# 1行ずつ読み込み，評価/開発/学習データリストに書き込んでいく\u001b[0m\u001b[1;33m\u001b[0m\u001b[1;33m\u001b[0m\u001b[1;33m\u001b[0m\u001b[0m\n\u001b[1;32m---> 52\u001b[1;33m             \u001b[1;32mfor\u001b[0m \u001b[0mi\u001b[0m\u001b[1;33m,\u001b[0m \u001b[0mline\u001b[0m \u001b[1;32min\u001b[0m \u001b[0menumerate\u001b[0m\u001b[1;33m(\u001b[0m\u001b[0mall_file\u001b[0m\u001b[1;33m)\u001b[0m\u001b[1;33m:\u001b[0m\u001b[1;33m\u001b[0m\u001b[1;33m\u001b[0m\u001b[0m\n\u001b[0m\u001b[0;32m     53\u001b[0m                 \u001b[1;32mif\u001b[0m \u001b[0mi\u001b[0m \u001b[1;33m<\u001b[0m \u001b[1;36m250\u001b[0m\u001b[1;33m:\u001b[0m\u001b[1;33m\u001b[0m\u001b[1;33m\u001b[0m\u001b[0m\n\u001b[0;32m     54\u001b[0m                     \u001b[1;31m# 1~250: 評価データリストへ書き込み\u001b[0m\u001b[1;33m\u001b[0m\u001b[1;33m\u001b[0m\u001b[1;33m\u001b[0m\u001b[0m\n",
      "\u001b[1;31mUnicodeDecodeError\u001b[0m: 'cp949' codec can't decode byte 0xb4 in position 17: illegal multibyte sequence"
     ]
    }
   ],
   "source": [
    "# -*- coding: utf-8 -*-\n",
    "\n",
    "#\n",
    "# データのリストを，学習/開発/評価用のデータセットに分割します．\n",
    "# ここでは，以下のように分割します．\n",
    "# BASIC5000_0001~0250 : 評価データ\n",
    "# BASIC5000_0251~0500 : 開発データ\n",
    "# BASIC5000_0501~1500 : 学習データ（小）\n",
    "# BASIC5000_0501~5000 : 学習データ（大）\n",
    "#\n",
    "\n",
    "# osモジュールをインポート\n",
    "import os\n",
    "\n",
    "#\n",
    "# メイン関数\n",
    "#\n",
    "if __name__ == \"__main__\":\n",
    "    \n",
    "    # 全データが記述されているリストの置き場\n",
    "    all_dir = './data/label/all'\n",
    "\n",
    "    # 評価データが記述されたリストの出力先\n",
    "    out_eval_dir = './data/label/test'\n",
    "    # 開発データが記述されたリストの出力先\n",
    "    out_dev_dir = './data/label/dev'\n",
    "    # 学習データ（小）が記述されたリストの出力先\n",
    "    out_train_small_dir = './data/label/train_small'\n",
    "    # 学習データ（大）が記述されたリストの出力先\n",
    "    out_train_large_dir = './data/label/train_large'\n",
    "\n",
    "    # 各出力ディレクトリが存在しない場合は作成する\n",
    "    for out_dir in [out_eval_dir, out_dev_dir, \n",
    "                    out_train_small_dir, out_train_large_dir]:\n",
    "        os.makedirs(out_dir, exist_ok=True)\n",
    "    \n",
    "    # wav.scp, text_char, text_kana, text_phoneそれぞれに同じ処理を行う\n",
    "    for filename in ['wav.scp', 'text_char', \n",
    "                     'text_kana', 'text_phone']:\n",
    "        # 全データを読み込みモードで，/評価/開発/学習データリストを書き込みモードで開く\n",
    "        with open(os.path.join(all_dir, filename), \n",
    "                  mode='r', encoding='UTF8') as all_file, \\\n",
    "                  open(os.path.join(out_eval_dir, filename), \n",
    "                  mode='w', encoding='UTF8') as eval_file, \\\n",
    "                  open(os.path.join(out_dev_dir, filename), \n",
    "                  mode='w', encoding='UTF8') as dev_file, \\\n",
    "                  open(os.path.join(out_train_small_dir, filename), \n",
    "                  mode='w', encoding='UTF8') as train_small_file, \\\n",
    "                  open(os.path.join(out_train_large_dir, filename), \n",
    "                  mode='w', encoding='UTF8') as train_large_file:\n",
    "            # 1行ずつ読み込み，評価/開発/学習データリストに書き込んでいく\n",
    "            for i, line in enumerate(all_file):\n",
    "                if i < 250:\n",
    "                    # 1~250: 評価データリストへ書き込み\n",
    "                    eval_file.write(line)\n",
    "                elif i < 500:\n",
    "                    # 251~500: 開発データリストへ書き込み\n",
    "                    dev_file.write(line)\n",
    "                else:\n",
    "                    # 501~5000: 学習（大）データリストへ書き込み\n",
    "                    train_large_file.write(line)\n",
    "                    if i < 1500:\n",
    "                        # 501～1500: 学習（小）データリストへ書き込み\n",
    "                        train_small_file.write(line)"
   ]
  }
 ],
 "metadata": {
  "kernelspec": {
   "display_name": "Python 3 (ipykernel)",
   "language": "python",
   "name": "python3"
  },
  "language_info": {
   "codemirror_mode": {
    "name": "ipython",
    "version": 3
   },
   "file_extension": ".py",
   "mimetype": "text/x-python",
   "name": "python",
   "nbconvert_exporter": "python",
   "pygments_lexer": "ipython3",
   "version": "3.7.7"
  }
 },
 "nbformat": 4,
 "nbformat_minor": 5
}
