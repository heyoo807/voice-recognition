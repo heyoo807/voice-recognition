{
 "cells": [
  {
   "cell_type": "code",
   "execution_count": 17,
   "id": "c2564217",
   "metadata": {},
   "outputs": [],
   "source": [
    "# -*- coding: utf-8 -*-\n",
    "\n",
    "#\n",
    "# データのリストを，学習/開発/評価用のデータセットに分割します．\n",
    "# ここでは，以下のように分割します．\n",
    "# BASIC5000_0001~0250 : 評価データ\n",
    "# BASIC5000_0251~0500 : 開発データ\n",
    "# BASIC5000_0501~1500 : 学習データ（小）\n",
    "# BASIC5000_0501~5000 : 学習データ（大）\n",
    "#\n",
    "\n",
    "# osモジュールをインポート\n",
    "import os\n",
    "\n",
    "#\n",
    "# メイン関数\n",
    "#\n",
    "if __name__ == \"__main__\":\n",
    "    \n",
    "    # 全データが記述されているリストの置き場\n",
    "    all_dir = './data/label/all'\n",
    "\n",
    "    # 評価データが記述されたリストの出力先\n",
    "    out_eval_dir = './data/label/test'\n",
    "    # 開発データが記述されたリストの出力先\n",
    "    out_dev_dir = './data/label/dev'\n",
    "    # 学習データ（小）が記述されたリストの出力先\n",
    "    out_train_small_dir = './data/label/train_small'\n",
    "    # 学習データ（大）が記述されたリストの出力先\n",
    "    out_train_large_dir = './data/label/train_large'\n",
    "\n",
    "    # 各出力ディレクトリが存在しない場合は作成する\n",
    "    for out_dir in [out_eval_dir, out_dev_dir, \n",
    "                    out_train_small_dir, out_train_large_dir]:\n",
    "        os.makedirs(out_dir, exist_ok=True)\n",
    "    \n",
    "    # wav.scp, text_char, text_kana, text_phoneそれぞれに同じ処理を行う\n",
    "    for filename in ['wav.scp', 'text_char', \n",
    "                     'text_kana', 'text_phone']:\n",
    "        # 全データを読み込みモードで，/評価/開発/学習データリストを書き込みモードで開く\n",
    "        with open(os.path.join(all_dir, filename), \n",
    "                  mode='r', encoding='MacRoman') as all_file, \\\n",
    "                  open(os.path.join(out_eval_dir, filename), \n",
    "                  mode='w', encoding='utf8') as eval_file, \\\n",
    "                  open(os.path.join(out_dev_dir, filename), \n",
    "                  mode='w', encoding='utf8') as dev_file, \\\n",
    "                  open(os.path.join(out_train_small_dir, filename), \n",
    "                  mode='w', encoding='utf8') as train_small_file, \\\n",
    "                  open(os.path.join(out_train_large_dir, filename), \n",
    "                  mode='w', encoding='utf8') as train_large_file:\n",
    "            # 1行ずつ読み込み，評価/開発/学習データリストに書き込んでいく\n",
    "            for i, line in enumerate(all_file):\n",
    "                if i < 250:\n",
    "                    # 1~250: 評価データリストへ書き込み\n",
    "                    eval_file.write(line)\n",
    "                elif i < 500:\n",
    "                    # 251~500: 開発データリストへ書き込み\n",
    "                    dev_file.write(line)\n",
    "                else:\n",
    "                    # 501~5000: 学習（大）データリストへ書き込み\n",
    "                    train_large_file.write(line)\n",
    "                    if i < 1500:\n",
    "                        # 501～1500: 学習（小）データリストへ書き込み\n",
    "                        train_small_file.write(line)"
   ]
  },
  {
   "cell_type": "code",
   "execution_count": 11,
   "id": "ac664531",
   "metadata": {},
   "outputs": [
    {
     "name": "stdout",
     "output_type": "stream",
     "text": [
      "Requirement already satisfied: chardet in c:\\users\\konyo\\appdata\\local\\programs\\python\\python37\\lib\\site-packages (5.1.0)\n"
     ]
    }
   ],
   "source": [
    "!pip install chardet"
   ]
  },
  {
   "cell_type": "code",
   "execution_count": 16,
   "id": "2cb73889",
   "metadata": {},
   "outputs": [
    {
     "name": "stdout",
     "output_type": "stream",
     "text": [
      "{'encoding': 'MacRoman', 'confidence': 0.7292707292707292, 'language': ''}\n"
     ]
    }
   ],
   "source": [
    "import chardet\n",
    "\n",
    "with open('./data/label/all/wav.scp', 'rb') as rawdata:\n",
    "    result = chardet.detect(rawdata.read(10000))\n",
    "\n",
    "# check what the character encoding might be\n",
    "print(result)"
   ]
  }
 ],
 "metadata": {
  "kernelspec": {
   "display_name": "Python 3 (ipykernel)",
   "language": "python",
   "name": "python3"
  },
  "language_info": {
   "codemirror_mode": {
    "name": "ipython",
    "version": 3
   },
   "file_extension": ".py",
   "mimetype": "text/x-python",
   "name": "python",
   "nbconvert_exporter": "python",
   "pygments_lexer": "ipython3",
   "version": "3.7.7"
  }
 },
 "nbformat": 4,
 "nbformat_minor": 5
}
