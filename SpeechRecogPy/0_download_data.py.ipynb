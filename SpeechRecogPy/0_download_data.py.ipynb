{
 "cells": [
  {
   "cell_type": "code",
   "execution_count": 3,
   "id": "0c6c79e3",
   "metadata": {},
   "outputs": [],
   "source": [
    "from urllib.request import urlretrieve"
   ]
  },
  {
   "cell_type": "code",
   "execution_count": 4,
   "id": "61907b79",
   "metadata": {},
   "outputs": [],
   "source": [
    "import zipfile"
   ]
  },
  {
   "cell_type": "code",
   "execution_count": 5,
   "id": "2c576056",
   "metadata": {},
   "outputs": [],
   "source": [
    "import os"
   ]
  },
  {
   "cell_type": "code",
   "execution_count": 8,
   "id": "d3cea72e",
   "metadata": {},
   "outputs": [
    {
     "name": "stdout",
     "output_type": "stream",
     "text": [
      "download jsut-data start\n",
      "download jsut-data finished\n",
      "extract jsut-data start\n",
      "extract jsut-data finished\n",
      "download jsut-label start\n",
      "download jsut-label finished\n",
      "extract jsut-label start\n",
      "extract jsut-label finished\n",
      "all processes finished\n"
     ]
    }
   ],
   "source": [
    "if __name__ == \"__main__\":\n",
    "    \n",
    "    # データの置き場を定義\n",
    "    data_dir = './data/original'\n",
    "\n",
    "    # ディレクトリdata_dirが存在しない場合は作成する\n",
    "    os.makedirs(data_dir, exist_ok=True)\n",
    "\n",
    "    # 音声ファイル(jsutコーパス. zip形式)をダウンロード\n",
    "    data_archive = os.path.join(data_dir, 'jsut-data.zip')\n",
    "    print('download jsut-data start')\n",
    "    urlretrieve('http://ss-takashi.sakura.ne.jp/corpus/jsut_ver1.1.zip', \n",
    "                data_archive)\n",
    "    print('download jsut-data finished')\n",
    "\n",
    "    # ダウンロードしたデータを展開する\n",
    "    print('extract jsut-data start')\n",
    "    with zipfile.ZipFile(data_archive) as data_zip:\n",
    "        data_zip.extractall(data_dir)\n",
    "    print('extract jsut-data finished')\n",
    "\n",
    "    # zipファイルを削除する\n",
    "    os.remove(data_archive)\n",
    "\n",
    "    # jsutコーパスのラベルデータをダウンロード\n",
    "    label_archive = os.path.join(data_dir, 'jsut-label.zip')\n",
    "    print('download jsut-label start')\n",
    "    urlretrieve('https://github.com/sarulab-speech/jsut-label/archive/master.zip',\n",
    "                label_archive)\n",
    "    print('download jsut-label finished')\n",
    "\n",
    "    # ダウンロードしたデータを展開する\n",
    "    print('extract jsut-label start')\n",
    "    with zipfile.ZipFile(label_archive) as label_zip:\n",
    "        label_zip.extractall(data_dir)\n",
    "    print('extract jsut-label finished')\n",
    "\n",
    "    # zipファイルを削除する\n",
    "    os.remove(label_archive)\n",
    "\n",
    "    print('all processes finished')"
   ]
  },
  {
   "cell_type": "code",
   "execution_count": null,
   "id": "3abcfa8d",
   "metadata": {},
   "outputs": [],
   "source": []
  },
  {
   "cell_type": "code",
   "execution_count": null,
   "id": "c352c3df",
   "metadata": {},
   "outputs": [],
   "source": []
  }
 ],
 "metadata": {
  "kernelspec": {
   "display_name": "Python 3 (ipykernel)",
   "language": "python",
   "name": "python3"
  },
  "language_info": {
   "codemirror_mode": {
    "name": "ipython",
    "version": 3
   },
   "file_extension": ".py",
   "mimetype": "text/x-python",
   "name": "python",
   "nbconvert_exporter": "python",
   "pygments_lexer": "ipython3",
   "version": "3.7.7"
  }
 },
 "nbformat": 4,
 "nbformat_minor": 5
}
