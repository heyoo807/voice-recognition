{
 "cells": [
  {
   "cell_type": "code",
   "execution_count": null,
   "id": "8bdeaefc",
   "metadata": {},
   "outputs": [],
   "source": [
    "import wave\n",
    "import numpy as np\n",
    "import matplotlib.pyplot as plt"
   ]
  },
  {
   "cell_type": "code",
   "execution_count": null,
   "id": "4e26e376",
   "metadata": {},
   "outputs": [],
   "source": [
    "if __name__ == \"__main__\":\n",
    "    # wav파일 열가\n",
    "    wav_file = './data/wav/BASIC5OOO_0001.wav'\n",
    "    # 프레임 사이즈[milli sec = ms]\n",
    "    frame_size = 25\n",
    "    # 프레임 시프트[milli sec = ms]\n",
    "    frame_shift = 10\n",
    "    \n",
    "    #시각화 결과를 저장할 파일 이름(png file)\n",
    "    out_plot = './spectrogram.png'\n",
    "    \n",
    "    #wav데이터 읽기 \n",
    "    with wav.open(wave_file) as wav:\n",
    "        sample_frequency = wav_file.getframerate()\n",
    "        num_samples = wav.getnframes()\n",
    "        waveform = wav.readframes(num_samples)\n",
    "        waveform = np.frombuffer(waveform , dtype = np.int16)\n",
    "    \n",
    "    #프레임 사이즈를 ms에서 샘플수로 변환 \n",
    "    frame_size = int(sample_frequency * frame_size * 0.001)\n",
    "    #프레임 시프트를 ms에서 샘플수로 변환\n",
    "    frame_shift = int(sample_frequency * frame_shift * 0.001)\n",
    "    \n",
    "    #FFT를 적용할 범위의 샘플 수를 프레임 사이즈보다 큰 2제곱으로 설정 \n",
    "    fft_size = 1\n",
    "    while fft_size < frame_size:\n",
    "        fft_size *= 2\n",
    "    \n",
    "    #단시간 푸리에 변환을 했을 때의 총 프레임 수를 계산한다\n",
    "    num_frames = (num_samples - frame_size) // frame_shift + 1 \n",
    "    \n",
    "    #스펙트로그램 행렬 준비\n",
    "    spectrogram = np.zeros((num_frames, int(fft_size /2)+1))\n",
    "    \n",
    "    #프레임별 진폭 스펙트럼 계산하기\n",
    "    \n",
    "    for frame_idx in range(num_frames):\n",
    "        #분석 시각 위치는, 프레임 번호(0시작) * (프레임 시프트)\n",
    "        start_index = frame_idx * frame_shift \n",
    "        #1프레임만큼 파형 추출\n",
    "        frame = waveform[start_index : start_index + frame_size].copy()"
   ]
  }
 ],
 "metadata": {
  "kernelspec": {
   "display_name": "Python 3 (ipykernel)",
   "language": "python",
   "name": "python3"
  },
  "language_info": {
   "codemirror_mode": {
    "name": "ipython",
    "version": 3
   },
   "file_extension": ".py",
   "mimetype": "text/x-python",
   "name": "python",
   "nbconvert_exporter": "python",
   "pygments_lexer": "ipython3",
   "version": "3.7.7"
  }
 },
 "nbformat": 4,
 "nbformat_minor": 5
}
